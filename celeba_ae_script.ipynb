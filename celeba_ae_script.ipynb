{
 "cells": [
  {
   "cell_type": "code",
   "execution_count": null,
   "outputs": [],
   "source": [
    "#pip install kornia"
   ],
   "metadata": {
    "collapsed": false,
    "pycharm": {
     "name": "#%%\n"
    }
   }
  },
  {
   "cell_type": "code",
   "execution_count": 1,
   "outputs": [
    {
     "name": "stdout",
     "output_type": "stream",
     "text": [
      "module=celeba_ae_128m name=celeba_ae_128m_vast dname=original_1c checkpoint_to_continue=/home/user/ML/GAN/diffusion_distiller/checkpoints/celeba_ae_128m_vast/original_1/checkpoint.pt num_timesteps=1024 num_iters=150000 batch_size=3 lr=0.0001 scheduler=StrategyCosineAnnel diffusion=GaussianDiffusion log_interval=15 ckpt_interval=30 num_workers=4\r\n",
      "Continue training...\r\n",
      "Training...\r\n",
      "Loss: 0.03922465260646592:   8%|▋        | 4063/50000 [30:01<5:32:20,  2.30it/s]Saved.\r\n",
      "Loss: 0.03911415529033577:  16%|█      | 8014/50000 [1:00:01<5:04:10,  2.30it/s]Saved.\r\n",
      "Loss: 0.03952037291324747:  24%|█▍    | 11954/50000 [1:30:01<4:35:40,  2.30it/s]Saved.\r\n",
      "Loss: 0.03942361497610138:  32%|█▉    | 15901/50000 [2:00:01<4:05:44,  2.31it/s]Saved.\r\n",
      "Loss: 0.03932945476685578:  40%|██▍   | 19873/50000 [2:30:01<3:37:24,  2.31it/s]Saved.\r\n",
      "Loss: 0.03935821086222073:  48%|██▊   | 23826/50000 [3:00:02<3:08:39,  2.31it/s]Saved.\r\n",
      "Loss: 0.039305499088882714:  56%|██▊  | 27771/50000 [3:30:02<2:41:23,  2.30it/s]Saved.\r\n",
      "Loss: 0.039347786346773966:  63%|███▏ | 31694/50000 [4:00:02<2:13:28,  2.29it/s]Saved.\r\n",
      "Loss: 0.03936595027812794:  71%|████▎ | 35620/50000 [4:30:02<1:44:31,  2.29it/s]Saved.\r\n",
      "Loss: 0.03936923110893168:  79%|████▋ | 39544/50000 [5:00:02<1:16:07,  2.29it/s]Saved.\r\n",
      "Loss: 0.03929649968669055:  87%|██████▉ | 43473/50000 [5:30:02<47:19,  2.30it/s]Saved.\r\n",
      "Loss: 0.039243691274088624:  95%|██████▋| 47393/50000 [6:00:02<19:01,  2.28it/s]Saved.\r\n",
      "Loss: 0.03925090325240046: 100%|████████| 50000/50000 [6:20:33<00:00,  2.19it/s]\r\n",
      "Saved.\r\n",
      "Finished.\r\n"
     ]
    }
   ],
   "source": [
    "#!python ./train.py --module celeba_ae_128m --name celeba_ae_128m_vast --checkpoint_to_continue /home/user/ML/GAN/diffusion_distiller/checkpoints/celeba_ae_128m_vast/original_1/checkpoint.pt --dname original_1c --batch_size 3 --num_workers 4 --num_iters 150000 --log_interval=15 --scheduler StrategyCosineAnnel --lr 1e-4"
   ],
   "metadata": {
    "collapsed": false,
    "pycharm": {
     "name": "#%%\n"
    }
   }
  },
  {
   "cell_type": "code",
   "execution_count": 1,
   "outputs": [
    {
     "name": "stdout",
     "output_type": "stream",
     "text": [
      "module=celeba_ae_128m name=celeba_ae_128m_vast dname=original_1l checkpoint_to_continue=/home/user/ML/GAN/diffusion_distiller/checkpoints/celeba_ae_128m_vast/original_1c/checkpoint.pt num_timesteps=1024 num_iters=30000 batch_size=3 lr=5e-05 scheduler=StrategyLinearLR diffusion=GaussianDiffusion log_interval=15 ckpt_interval=30 num_workers=4\r\n",
      "Continue training...\r\n",
      "Training...\r\n",
      "Loss: 0.0410079760974058:  37%|████▍       | 3671/10000 [30:01<50:23,  2.09it/s]Saved.\r\n",
      "Loss: 0.04056128073630642:  72%|██████▌  | 7250/10000 [1:00:01<22:01,  2.08it/s]Saved.\r\n",
      "Loss: 0.04011858084052801: 100%|████████| 10000/10000 [1:23:29<00:00,  2.00it/s]\r\n",
      "Saved.\r\n",
      "Finished.\r\n"
     ]
    }
   ],
   "source": [
    "#!python ./train.py --module celeba_ae_128m --name celeba_ae_128m_vast --checkpoint_to_continue /home/user/ML/GAN/diffusion_distiller/checkpoints/celeba_ae_128m_vast/original_1c/checkpoint.pt --dname original_1l --batch_size 3 --num_workers 4 --num_iters 30000 --log_interval=15 --scheduler StrategyLinearLR --lr 5e-5"
   ],
   "metadata": {
    "collapsed": false,
    "pycharm": {
     "name": "#%%\n"
    }
   }
  },
  {
   "cell_type": "code",
   "execution_count": null,
   "outputs": [],
   "source": [
    "#!python ./calculate_latents.py --module celeba_ae_128m --checkpoint /home/user/ML/GAN/diffusion_distiller/checkpoints/celeba_ae_128m_vast/original_1c/checkpoint.pt --images_dir /media/user/Datasets/CelebAMask-HQ_/CelebA-HQ-img/ --output_dir ./data/celeba_128m_latents/"
   ],
   "metadata": {
    "collapsed": false,
    "pycharm": {
     "name": "#%%\n"
    }
   }
  },
  {
   "cell_type": "code",
   "execution_count": 24,
   "outputs": [
    {
     "name": "stdout",
     "output_type": "stream",
     "text": [
      "Model loaded.\r\n",
      "Reverse DDIM sampling for finding x_0.\r\n",
      "100%|███████████████████████████████████████| 1023/1023 [00:35<00:00, 28.97it/s]\r\n",
      "Forward sampling.\r\n",
      "1024it [02:00,  8.50it/s]\r\n",
      "Finished.\r\n"
     ]
    }
   ],
   "source": [
    "!python ./sample.py --clipped_sampling True --clipping_value 1000 --imageA /media/user/Datasets/CelebAMask-HQ_/CelebA-HQ-img/0.jpg --imageB /media/user/Datasets/CelebAMask-HQ_/CelebA-HQ-img/1.jpg --out_file ./images/celeba_ae_128b.png --module celeba_ae_128b --time_scale 1 --checkpoint /home/user/ML/GAN/diffusion_distiller/checkpoints/celeba_ae_128b/original_5/checkpoint.pt --batch_size 4"
   ],
   "metadata": {
    "collapsed": false,
    "pycharm": {
     "name": "#%%\n"
    }
   }
  },
  {
   "cell_type": "code",
   "execution_count": 31,
   "outputs": [
    {
     "name": "stdout",
     "output_type": "stream",
     "text": [
      "Model loaded.\r\n",
      "Reverse DDIM sampling for finding x_0...\r\n",
      "100%|███████████████████████████████████████| 1023/1023 [00:34<00:00, 29.66it/s]\r\n",
      "Forward sampling...\r\n",
      "1024it [02:01,  8.44it/s]\r\n",
      "Finished.\r\n"
     ]
    }
   ],
   "source": [
    "!python ./sample.py --clipped_sampling True --clipping_value 1000 --imageA /media/user/Datasets/CelebAMask-HQ_/CelebA-HQ-img/272.jpg --imageB /media/user/Datasets/CelebAMask-HQ_/CelebA-HQ-img/106.jpg --imageC /media/user/Datasets/CelebAMask-HQ_/CelebA-HQ-img/98.jpg --out_file ./images/celeba_ae_128b_cb.png --module celeba_ae_128b --time_scale 1 --checkpoint /home/user/ML/GAN/diffusion_distiller/checkpoints/celeba_ae_128b/original_5/checkpoint.pt --batch_size 4"
   ],
   "metadata": {
    "collapsed": false,
    "pycharm": {
     "name": "#%%\n"
    }
   }
  },
  {
   "cell_type": "code",
   "execution_count": 2,
   "outputs": [
    {
     "name": "stdout",
     "output_type": "stream",
     "text": [
      "Model loaded.\r\n",
      "Reverse DDIM sampling for finding x_0...\r\n",
      "100%|███████████████████████████████████████| 1023/1023 [00:40<00:00, 25.54it/s]\r\n",
      "Forward sampling...\r\n",
      "1024it [02:25,  7.03it/s]\r\n",
      "Finished.\r\n"
     ]
    }
   ],
   "source": [
    "!python ./sample.py --clipped_sampling True --clipping_value 1000 --imageA /media/user/Datasets/CelebAMask-HQ_/CelebA-HQ-img/272.jpg --imageB /media/user/Datasets/CelebAMask-HQ_/CelebA-HQ-img/106.jpg --module celeba_ae_128m --time_scale 1 --checkpoint /home/user/ML/GAN/diffusion_distiller/checkpoints/celeba_ae_128m_vast/original_1/checkpoint.pt --batch_size 4 --out_file ./images/celeba_ae_128m_vast.png"
   ],
   "metadata": {
    "collapsed": false,
    "pycharm": {
     "name": "#%%\n"
    }
   }
  },
  {
   "cell_type": "code",
   "execution_count": null,
   "outputs": [],
   "source": [],
   "metadata": {
    "collapsed": false,
    "pycharm": {
     "name": "#%%\n"
    }
   }
  }
 ],
 "metadata": {
  "kernelspec": {
   "display_name": "Python 3",
   "language": "python",
   "name": "python3"
  },
  "language_info": {
   "codemirror_mode": {
    "name": "ipython",
    "version": 2
   },
   "file_extension": ".py",
   "mimetype": "text/x-python",
   "name": "python",
   "nbconvert_exporter": "python",
   "pygments_lexer": "ipython2",
   "version": "2.7.6"
  }
 },
 "nbformat": 4,
 "nbformat_minor": 0
}