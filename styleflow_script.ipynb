{
 "cells": [
  {
   "cell_type": "code",
   "execution_count": 1,
   "metadata": {
    "collapsed": true
   },
   "outputs": [
    {
     "name": "stdout",
     "output_type": "stream",
     "text": [
      "Collecting torchdiffeq\r\n",
      "  Using cached torchdiffeq-0.2.2-py3-none-any.whl (31 kB)\r\n",
      "Requirement already satisfied: scipy>=1.4.0 in /home/user/ML/VENV21/lib/python3.9/site-packages/scipy-1.8.0rc2-py3.9-linux-x86_64.egg (from torchdiffeq) (1.8.0rc2)\r\n",
      "Requirement already satisfied: torch>=1.3.0 in /home/user/ML/VENV21/lib/python3.9/site-packages (from torchdiffeq) (1.10.1+cu113)\r\n",
      "Requirement already satisfied: numpy<1.25.0,>=1.17.3 in /home/user/ML/VENV21/lib/python3.9/site-packages (from scipy>=1.4.0->torchdiffeq) (1.21.5)\r\n",
      "Requirement already satisfied: typing-extensions in /home/user/ML/VENV21/lib/python3.9/site-packages (from torch>=1.3.0->torchdiffeq) (4.0.1)\r\n",
      "Installing collected packages: torchdiffeq\r\n",
      "Successfully installed torchdiffeq-0.2.2\r\n"
     ]
    }
   ],
   "source": [
    "#!pip install  torchdiffeq==0.0.1"
   ]
  },
  {
   "cell_type": "code",
   "execution_count": null,
   "outputs": [
    {
     "name": "stdout",
     "output_type": "stream",
     "text": [
      "Loading data...\r\n",
      "Training styleflow...\r\n",
      "Training T : 1.0\r\n",
      "Number of trainable parameters of Point CNF: 1765377\r\n",
      "logP: 241179.00000:  75%|██████████▌   | 7536/10000 [1:52:16<1:09:32,  1.69s/it]"
     ]
    }
   ],
   "source": [
    "!python ./train_styleflow.py"
   ],
   "metadata": {
    "collapsed": false,
    "pycharm": {
     "name": "#%%\n",
     "is_executing": true
    }
   }
  },
  {
   "cell_type": "code",
   "execution_count": 9,
   "outputs": [],
   "source": [
    "import numpy as np"
   ],
   "metadata": {
    "collapsed": false,
    "pycharm": {
     "name": "#%%\n"
    }
   }
  },
  {
   "cell_type": "code",
   "execution_count": 12,
   "outputs": [],
   "source": [
    "base = \"./data/data_numpy/\""
   ],
   "metadata": {
    "collapsed": false,
    "pycharm": {
     "name": "#%%\n"
    }
   }
  },
  {
   "cell_type": "code",
   "execution_count": 13,
   "outputs": [],
   "source": [
    "import os\n",
    "sg_latents = np.load(os.path.join(base, \"latents.npy\"))\n",
    "lighting = np.load(os.path.join(base, \"lighting.npy\"))\n",
    "attributes = np.load(os.path.join(base, \"attributes.npy\"))\n",
    "sg_attributes = np.concatenate([lighting,attributes], axis = 1)"
   ],
   "metadata": {
    "collapsed": false,
    "pycharm": {
     "name": "#%%\n"
    }
   }
  },
  {
   "cell_type": "code",
   "execution_count": 14,
   "outputs": [
    {
     "data": {
      "text/plain": "(10000, 1, 18, 512)"
     },
     "execution_count": 14,
     "metadata": {},
     "output_type": "execute_result"
    }
   ],
   "source": [
    "sg_latents.shape"
   ],
   "metadata": {
    "collapsed": false,
    "pycharm": {
     "name": "#%%\n"
    }
   }
  },
  {
   "cell_type": "code",
   "execution_count": 15,
   "outputs": [
    {
     "data": {
      "text/plain": "(10000, 17, 1)"
     },
     "execution_count": 15,
     "metadata": {},
     "output_type": "execute_result"
    }
   ],
   "source": [
    "sg_attributes.shape"
   ],
   "metadata": {
    "collapsed": false,
    "pycharm": {
     "name": "#%%\n"
    }
   }
  },
  {
   "cell_type": "code",
   "execution_count": null,
   "outputs": [],
   "source": [],
   "metadata": {
    "collapsed": false,
    "pycharm": {
     "name": "#%%\n"
    }
   }
  }
 ],
 "metadata": {
  "kernelspec": {
   "display_name": "Python 3",
   "language": "python",
   "name": "python3"
  },
  "language_info": {
   "codemirror_mode": {
    "name": "ipython",
    "version": 2
   },
   "file_extension": ".py",
   "mimetype": "text/x-python",
   "name": "python",
   "nbconvert_exporter": "python",
   "pygments_lexer": "ipython2",
   "version": "2.7.6"
  }
 },
 "nbformat": 4,
 "nbformat_minor": 0
}